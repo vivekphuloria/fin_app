{
 "cells": [
  {
   "cell_type": "code",
   "execution_count": 1,
   "metadata": {},
   "outputs": [
    {
     "data": {
      "text/plain": [
       "True"
      ]
     },
     "execution_count": 1,
     "metadata": {},
     "output_type": "execute_result"
    }
   ],
   "source": [
    "from dotenv import load_dotenv\n",
    "load_dotenv()"
   ]
  },
  {
   "cell_type": "code",
   "execution_count": 9,
   "metadata": {},
   "outputs": [],
   "source": [
    "from langchain_openai import ChatOpenAI\n",
    "from langchain.prompts import ChatPromptTemplate \n",
    "\n",
    "from langchain_core.runnables import RunnablePassthrough\n",
    "from langchain_core.output_parsers import StrOutputParser\n",
    "from langchain_community.tools.tavily_search import TavilySearchResults\n",
    "\n",
    "from langchain.agents import AgentExecutor, create_tool_calling_agent\n",
    "\n",
    "\n",
    "from langchain_core.pydantic_v1 import BaseModel, Field\n",
    "from langchain.tools import tool\n"
   ]
  },
  {
   "cell_type": "code",
   "execution_count": 3,
   "metadata": {},
   "outputs": [],
   "source": [
    "l_llm = {v: ChatOpenAI(model=v) for v in [\"gpt-4o\",\"gpt-4o-mini\"]} "
   ]
  },
  {
   "cell_type": "code",
   "execution_count": 4,
   "metadata": {},
   "outputs": [],
   "source": [
    "llm = l_llm['gpt-4o']\n",
    "create_prompt = lambda system_prompt : ChatPromptTemplate.from_messages([('system',system_prompt),('human','{input}')])\n"
   ]
  },
  {
   "cell_type": "code",
   "execution_count": null,
   "metadata": {},
   "outputs": [],
   "source": []
  },
  {
   "cell_type": "code",
   "execution_count": 11,
   "metadata": {},
   "outputs": [],
   "source": [
    "# t = llm.invoke(\"What is the square root of 4?\")\n",
    "# tem_chain = RunnablePassthrough() | StrOutputParser()\n",
    "# tem_chain.invoke(t)"
   ]
  },
  {
   "cell_type": "code",
   "execution_count": 12,
   "metadata": {},
   "outputs": [],
   "source": [
    "class primaryClf(BaseModel):\n",
    "    \"\"\" \n",
    "    Classify the input into one or more of the categories\n",
    "    \"\"\" \n",
    "    company          : str = Field(description = \"Company name in the query\")\n",
    "    ticker           : str = Field(description = \"Ticker name of the Query\")\n",
    "    information_type : str = Field(description = 'Type of Information Requested. One of \"company\", \"information_type\", and \"time_duration\"')\n",
    "    time_duration    : str = Field(description = 'Time requested in user query. Start and end date')\n",
    "\n",
    "\n",
    "def get_primary_chain():\n",
    "\n",
    "    primary_prompt = \"\"\"\n",
    "You are a equity research analyst. The user query will be about some information regarding a company, and you have to help identify keywords from the user query. \n",
    "You have to identify the following items\n",
    "- 1) \"company\" : Identify the company the user is talking about. Eg \"Tata Consultancy Services\", \"HDFC Bank\", \"Aditya Birla Fashion\" etc\n",
    "- 2) \"ticker\" : The NSE ticker of the identified company. Use Tavily Search to confirm. eg. \"TCS.NS\", \"HDFCBANK.NS\", \"ABFRL.NS\"   \n",
    "- 3) \"information_type\" : What type of information the user has requested. The value of this key can only be one of the following \"General\", \"Financial\", or \"Market\". The meaning of these terms is as follows \n",
    "        \"General\" information refers to non-numeric information like its adress, contact information, website, industry, or company description\n",
    "        \"Financial\" implies information regarding its balance sheet, cashflows, or PnL statement, either annual or quarterly\n",
    "        \"Market\" refers to information regarding its share price\n",
    "\n",
    "- 4) \"time_duration\" : Is the user talking about particular time-duration. Respond keeping in mind that the date today is 16-Feb-2025 .\n",
    "     This should expressed be in the form <start date> - <end date>, eg a query talking about this year should be \"1-Jan-2025 to 31-12-2025\"\n",
    "     In case of no time mentioned it should be \"NA\"\n",
    "\n",
    "Your response has to be a json with these 3 keys - \"company\", \"information_type\", and \"time_duration\"\n",
    "Do not have any other information in the response\n",
    "\"\"\".strip()\n",
    "\n",
    "    tool_search = TavilySearchResults(max_results=2)\n",
    "    l_tools = [tool_search]\n",
    "    llm = l_llm['gpt-4o-mini']\n",
    "\n",
    "    llm_tools = llm.bind_tools(l_tools)\n",
    "    llm_st = llm_tools.with_structured_output(primaryClf)\n",
    "    chain  = create_prompt(primary_prompt) | llm_st \n",
    "    return chain\n",
    "\n"
   ]
  },
  {
   "cell_type": "code",
   "execution_count": 13,
   "metadata": {},
   "outputs": [
    {
     "name": "stdout",
     "output_type": "stream",
     "text": [
      "company='Varun Beverages' ticker='VBL.NS' information_type='General' time_duration='NA'\n"
     ]
    }
   ],
   "source": [
    "\n",
    "p_chain = get_primary_chain()\n",
    "\n",
    "query = \"Give me a description of Varun Beverages\"\n",
    "res = p_chain.invoke(query)\n",
    "print(res)"
   ]
  },
  {
   "cell_type": "code",
   "execution_count": null,
   "metadata": {},
   "outputs": [
    {
     "data": {
      "text/plain": [
       "{'company': 'Varun Beverages',\n",
       " 'ticker': 'VBL.NS',\n",
       " 'information_type': 'General',\n",
       " 'time_duration': 'NA'}"
      ]
     },
     "execution_count": 15,
     "metadata": {},
     "output_type": "execute_result"
    }
   ],
   "source": [
    "# tem_chain = RunnablePassthrough() | dict\n",
    "# tem_chain.invoke(res)"
   ]
  },
  {
   "cell_type": "code",
   "execution_count": 20,
   "metadata": {},
   "outputs": [
    {
     "data": {
      "text/plain": [
       "'{\"company\": \"Varun Beverages\", \"ticker\": \"VBL.NS\", \"information_type\": \"General\", \"time_duration\": \"NA\"}'"
      ]
     },
     "execution_count": 20,
     "metadata": {},
     "output_type": "execute_result"
    }
   ],
   "source": [
    "res.json()"
   ]
  },
  {
   "cell_type": "markdown",
   "metadata": {},
   "source": [
    "###  Testing YF Tool Agent"
   ]
  },
  {
   "cell_type": "code",
   "execution_count": 26,
   "metadata": {},
   "outputs": [],
   "source": [
    "import yfinance as yf"
   ]
  },
  {
   "cell_type": "code",
   "execution_count": 22,
   "metadata": {},
   "outputs": [
    {
     "data": {
      "text/plain": [
       "\"\\n    Fetches information about the ticker mentioned. \\n    argument l_fields is the set of relevant fields to chosen from the following list - {['address1', 'address2', 'city', 'zip', 'country', 'phone', 'fax', 'website', 'industry', 'industryKey', 'industryDisp', 'sector', 'sectorKey', 'sectorDisp', 'longBusinessSummary', 'currency', 'lastSplitFactor', 'exchange', 'quoteType', 'symbol', 'underlyingSymbol', 'shortName', 'longName', 'timeZoneFullName', 'timeZoneShortName', 'uuid', 'messageBoardId', 'recommendationKey', 'financialCurrency']}\\n    \""
      ]
     },
     "execution_count": 22,
     "metadata": {},
     "output_type": "execute_result"
    }
   ],
   "source": [
    "str_keys = ['address1', 'address2', 'city', 'zip', 'country', 'phone', 'fax', 'website', 'industry', 'industryKey', 'industryDisp', 'sector', 'sectorKey', 'sectorDisp', 'longBusinessSummary', 'currency', 'lastSplitFactor', 'exchange', 'quoteType', 'symbol', 'underlyingSymbol', 'shortName', 'longName', 'timeZoneFullName', 'timeZoneShortName', 'uuid', 'messageBoardId', 'recommendationKey', 'financialCurrency']\n",
    "\n",
    "\"\"\"\n",
    "    Fetches information about the ticker mentioned. \n",
    "    argument l_fields is the set of relevant fields to chosen from the following list - {%s}\n",
    "    \"\"\"%(str(str_keys))\n"
   ]
  },
  {
   "cell_type": "code",
   "execution_count": 28,
   "metadata": {},
   "outputs": [
    {
     "data": {
      "text/plain": [
       "{'input': 'What is the full address of Varun Beverages?',\n",
       " 'context': '{\"company\": \"Varun Beverages\", \"ticker\": \"VBL.NS\", \"information_type\": \"General\", \"time_duration\": \"NA\"}',\n",
       " 'output': 'The full address of Varun Beverages is:\\n\\nRJ Corp House,  \\nPlot No. 31 Institutional Area Sector-44,  \\nGurugram,  \\n122002,  \\nIndia.'}"
      ]
     },
     "execution_count": 28,
     "metadata": {},
     "output_type": "execute_result"
    }
   ],
   "source": [
    "str_keys = ['address1', 'address2', 'city', 'zip', 'country', 'phone', 'fax', 'website', 'industry', 'industryKey', 'industryDisp', 'sector', 'sectorKey', 'sectorDisp', 'longBusinessSummary', 'currency', 'lastSplitFactor', 'exchange', 'quoteType', 'symbol', 'underlyingSymbol', 'shortName', 'longName', 'timeZoneFullName', 'timeZoneShortName', 'uuid', 'messageBoardId', 'recommendationKey', 'financialCurrency']\n",
    "\n",
    "\n",
    "@tool\n",
    "def gen_info_tool(ticker, l_fields) -> str:\n",
    "    \"\"\"\n",
    "    Fetches information about the ticker mentioned. \n",
    "    argument l_fields is the set of relevant fields to chosen from the following list - \n",
    "    ['address1', 'address2', 'city', 'zip', 'country', 'phone', 'fax', 'website', 'industry', 'industryKey', 'industryDisp', 'sector', 'sectorKey', 'sectorDisp', 'longBusinessSummary', 'currency', 'lastSplitFactor', 'exchange', 'quoteType', 'symbol', 'underlyingSymbol', 'shortName', 'longName', 'timeZoneFullName', 'timeZoneShortName', 'uuid', 'messageBoardId', 'recommendationKey', 'financialCurrency']    \"\n",
    "    \"\"\"\n",
    "    stock = yf.Ticker(ticker)\n",
    "    d_ret = {}\n",
    "    for field in l_fields:\n",
    "        if field in stock.info.keys():\n",
    "            d_ret[field] = stock.info[field]\n",
    "    return str(d_ret)\n",
    "\n",
    "    \n",
    "\n",
    "prompt = ChatPromptTemplate.from_messages(\n",
    "    [\n",
    "        (\"system\", \"You have to give response to the users query, given the following information\"),\n",
    "        (\"ai\", \"{context}\"),\n",
    "        (\"human\", \"Query : {input}\"),\n",
    "        (\"placeholder\", \"{agent_scratchpad}\"),\n",
    "    ]\n",
    ")\n",
    "\n",
    "tools = [gen_info_tool]\n",
    "agent = create_tool_calling_agent(llm, tools, prompt)\n",
    "agent_executor = AgentExecutor(agent=agent, tools=tools)\n",
    "\n",
    "query = \"What is the full address of Varun Beverages?\"\n",
    "\n",
    "agent_executor.invoke({\"input\": query, \"context\": res.json()})"
   ]
  },
  {
   "cell_type": "code",
   "execution_count": null,
   "metadata": {},
   "outputs": [],
   "source": []
  }
 ],
 "metadata": {
  "kernelspec": {
   "display_name": "fin_rag",
   "language": "python",
   "name": "python3"
  },
  "language_info": {
   "codemirror_mode": {
    "name": "ipython",
    "version": 3
   },
   "file_extension": ".py",
   "mimetype": "text/x-python",
   "name": "python",
   "nbconvert_exporter": "python",
   "pygments_lexer": "ipython3",
   "version": "3.12.2"
  }
 },
 "nbformat": 4,
 "nbformat_minor": 2
}
