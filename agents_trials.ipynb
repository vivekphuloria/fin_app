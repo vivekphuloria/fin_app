{
 "cells": [
  {
   "cell_type": "code",
   "execution_count": 1,
   "metadata": {},
   "outputs": [
    {
     "data": {
      "text/plain": [
       "True"
      ]
     },
     "execution_count": 1,
     "metadata": {},
     "output_type": "execute_result"
    }
   ],
   "source": [
    "from dotenv import load_dotenv\n",
    "load_dotenv()"
   ]
  },
  {
   "cell_type": "code",
   "execution_count": 2,
   "metadata": {},
   "outputs": [],
   "source": [
    "from langchain_openai import ChatOpenAI\n",
    "from langchain.prompts import ChatPromptTemplate \n",
    "from langchain_core.output_parsers import StrOutputParser\n",
    "\n",
    "\n",
    "from langchain_core.pydantic_v1 import BaseModel, Field\n"
   ]
  },
  {
   "cell_type": "code",
   "execution_count": 3,
   "metadata": {},
   "outputs": [],
   "source": [
    "l_llm = {v: ChatOpenAI(model=v) for v in [\"gpt-4o\",\"gpt-4o-mini\"]} "
   ]
  },
  {
   "cell_type": "code",
   "execution_count": 4,
   "metadata": {},
   "outputs": [],
   "source": [
    "llm = l_llm['gpt-4o']\n",
    "create_prompt = lambda system_prompt : ChatPromptTemplate.from_messages([('system',system_prompt),('human','{input}')])\n"
   ]
  },
  {
   "cell_type": "code",
   "execution_count": null,
   "metadata": {},
   "outputs": [],
   "source": [
    "class primaryClf(BaseModel):\n",
    "    \"\"\" \n",
    "    Classify the input into one or more of the categories\n",
    "    \"\"\" \n",
    "    company          : str = Field(description = \"Company name in the query\")\n",
    "    information_type : str = Field(description = 'Type of Information Requested. One of \"company\", \"information_type\", and \"time_duration\"')\n",
    "    time_duration    : str = Field(description = 'Time requested in user query. Start and end date')\n",
    "\n",
    "def get_primary_chain():\n",
    "    primary_prompt = \"\"\"\n",
    "You are a equity research analyst. The user query will be about some information regarding a company, and you have to help identify keywords from the user query. \n",
    "You have to identify the following items \n",
    "- 1) \"company\" : The company the user is talking about. Eg \"Tata Steel\", \"HDFC Bank\", etc\n",
    "- 2) \"information_type\" : What type of information the user has requested. The value of this key can only be one of the following \"General\", \"Financial\", or \"Market\". The meaning of these terms is as follows \n",
    "        \"General\" information refers to non-numeric information like its adress, contact information, website, industry, or company description\n",
    "        \"Financial\" implies information regarding its balance sheet, cashflows, or PnL statement, either annual or quarterly\n",
    "        \"Market\" refers to information regarding its share price\n",
    "- 3) \"time_duration\" : Is the user talking about particular time-duration. Respond keeping in mind that the date today is 16-Feb-2025 .\n",
    "     This should expressed be in the form <start date> - <end date>, eg a query talking about this year should be \"1-Jan-2025 to 31-12-2025\"\n",
    "     In case of no time mentioned it should be \"NA\"\n",
    "\n",
    "Your response has to be a json with these 3 keys - \"company\", \"information_type\", and \"time_duration\"\n",
    "Do not have any other information in the response\n",
    "\"\"\".strip()\n",
    "    llm = l_llm['gpt-4o-mini']\n",
    "    llm_st = \n",
    "    chain  = create_prompt(primary_prompt) | llm | StrOutputParser()\n",
    "\n",
    "    return chain\n",
    "\n"
   ]
  },
  {
   "cell_type": "code",
   "execution_count": 6,
   "metadata": {},
   "outputs": [
    {
     "data": {
      "text/plain": [
       "'{\\n  \"company\": \"Asian Paints\",\\n  \"information_type\": \"Market\",\\n  \"time_duration\": \"1-Feb-2025 to 16-Feb-2025\"\\n}'"
      ]
     },
     "execution_count": 6,
     "metadata": {},
     "output_type": "execute_result"
    }
   ],
   "source": [
    "\n",
    "p_chain = get_primary_chain()\n",
    "\n",
    "query = \"What has been the change in stock price for Asian Paints for the current month\"\n",
    "p_chain.invoke(query)\n"
   ]
  }
 ],
 "metadata": {
  "kernelspec": {
   "display_name": "fin_rag",
   "language": "python",
   "name": "python3"
  },
  "language_info": {
   "codemirror_mode": {
    "name": "ipython",
    "version": 3
   },
   "file_extension": ".py",
   "mimetype": "text/x-python",
   "name": "python",
   "nbconvert_exporter": "python",
   "pygments_lexer": "ipython3",
   "version": "3.12.2"
  }
 },
 "nbformat": 4,
 "nbformat_minor": 2
}
