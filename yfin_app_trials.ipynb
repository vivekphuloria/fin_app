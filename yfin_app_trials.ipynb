{
 "cells": [
  {
   "cell_type": "code",
   "execution_count": 3,
   "metadata": {},
   "outputs": [],
   "source": [
    "import pandas as pd\n",
    "import yfinance as yf\n",
    "import numbers"
   ]
  },
  {
   "cell_type": "code",
   "execution_count": 4,
   "metadata": {},
   "outputs": [],
   "source": [
    "\n",
    "stock = yf.Ticker(\"TATASTEEL.NS\")\n"
   ]
  },
  {
   "cell_type": "code",
   "execution_count": null,
   "metadata": {},
   "outputs": [
    {
     "name": "stdout",
     "output_type": "stream",
     "text": [
      "['address1', 'address2', 'city', 'zip', 'country', 'phone', 'fax', 'website', 'industry', 'industryKey', 'industryDisp', 'sector', 'sectorKey', 'sectorDisp', 'longBusinessSummary', 'currency', 'lastSplitFactor', 'exchange', 'quoteType', 'symbol', 'underlyingSymbol', 'shortName', 'longName', 'timeZoneFullName', 'timeZoneShortName', 'uuid', 'messageBoardId', 'recommendationKey', 'financialCurrency']\n"
     ]
    }
   ],
   "source": [
    "\n",
    "\n",
    "str_keys = [k for k in stock.info.keys() if type(stock.info[k]) == str ]\n",
    "print(str_keys)\n",
    "\n",
    "['address1', 'address2', 'city', 'zip', 'country', 'phone', 'fax', 'website', 'industry',  'industryDisp', 'sector', 'sectorKey', 'sectorDisp', 'longBusinessSummary', 'currency', 'lastSplitFactor', 'exchange', 'quoteType', 'symbol', 'underlyingSymbol', 'shortName', 'longName', 'timeZoneFullName', 'timeZoneShortName', 'uuid', 'messageBoardId', 'recommendationKey', 'financialCurrency']\n",
    "\n",
    "\n",
    "\n",
    "# for k in str_keys:\n",
    "#     print(k,':', stock.info[k])\n",
    "#     print('-- '*10)\n"
   ]
  }
 ],
 "metadata": {
  "kernelspec": {
   "display_name": "fin_rag",
   "language": "python",
   "name": "python3"
  },
  "language_info": {
   "codemirror_mode": {
    "name": "ipython",
    "version": 3
   },
   "file_extension": ".py",
   "mimetype": "text/x-python",
   "name": "python",
   "nbconvert_exporter": "python",
   "pygments_lexer": "ipython3",
   "version": "3.12.2"
  }
 },
 "nbformat": 4,
 "nbformat_minor": 2
}
