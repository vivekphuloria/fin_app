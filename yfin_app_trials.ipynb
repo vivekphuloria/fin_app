{
 "cells": [
  {
   "cell_type": "code",
   "execution_count": 2,
   "metadata": {},
   "outputs": [],
   "source": [
    "import pandas as pd\n",
    "import yfinance as yf\n",
    "import numbers"
   ]
  },
  {
   "cell_type": "code",
   "execution_count": 3,
   "metadata": {},
   "outputs": [],
   "source": [
    "\n",
    "stock = yf.Ticker(\"TATASTEEL.NS\")\n"
   ]
  },
  {
   "cell_type": "code",
   "execution_count": 5,
   "metadata": {},
   "outputs": [
    {
     "name": "stdout",
     "output_type": "stream",
     "text": [
      "address1 : Bombay House\n",
      "-- -- -- -- -- -- -- -- -- -- \n",
      "address2 : 24, Homi Mody Street Fort\n",
      "-- -- -- -- -- -- -- -- -- -- \n",
      "city : Mumbai\n",
      "-- -- -- -- -- -- -- -- -- -- \n",
      "zip : 400001\n",
      "-- -- -- -- -- -- -- -- -- -- \n",
      "country : India\n",
      "-- -- -- -- -- -- -- -- -- -- \n",
      "phone : 91 22 6665 8282\n",
      "-- -- -- -- -- -- -- -- -- -- \n",
      "fax : 91 22 6665 8113\n",
      "-- -- -- -- -- -- -- -- -- -- \n",
      "website : https://www.tatasteel.com\n",
      "-- -- -- -- -- -- -- -- -- -- \n",
      "industry : Steel\n",
      "-- -- -- -- -- -- -- -- -- -- \n",
      "industryKey : steel\n",
      "-- -- -- -- -- -- -- -- -- -- \n",
      "industryDisp : Steel\n",
      "-- -- -- -- -- -- -- -- -- -- \n",
      "sector : Basic Materials\n",
      "-- -- -- -- -- -- -- -- -- -- \n",
      "sectorKey : basic-materials\n",
      "-- -- -- -- -- -- -- -- -- -- \n",
      "sectorDisp : Basic Materials\n",
      "-- -- -- -- -- -- -- -- -- -- \n",
      "longBusinessSummary : Tata Steel Limited engages in the manufacture and distribution of steel products in India and internationally. It offers hot rolled (HR), cold-rolled, direct-rolled, cold rolled closed annealed (CRCA), galvanized, galvanized corrugated, HR commercial, HR slit, medium carbon/high carbon, structural and precision tube, wire rod, billet, metallic and organic coated coil and sheet, conveyance and line pipe, electro-plated steel, tailor welded blank, and aluminium blank, and BP sheet products. The company also provides hot rolled pickled and oiled, hot rolled skin passed pickled and oiled, pre-engineered building, full hard cold rolled, galv, galume, galvano, PPGI, PPGL, panel and profile, lintel, roof and cladding system, slab, highway system, high tensile steel strapping, electro-plated coil, tin plate, tin-free steel, laminated steel coil and sheet, thermo mechanically treated rebar, cut and bend, stirrup, dowel, footing, and angle and channel products. It offers its products for automotive, construction, industrial and general engineering, and consumer durables industries. The company was incorporated in 1907 and is based in Mumbai, India.\n",
      "-- -- -- -- -- -- -- -- -- -- \n",
      "currency : INR\n",
      "-- -- -- -- -- -- -- -- -- -- \n",
      "lastSplitFactor : 10:1\n",
      "-- -- -- -- -- -- -- -- -- -- \n",
      "exchange : NSI\n",
      "-- -- -- -- -- -- -- -- -- -- \n",
      "quoteType : EQUITY\n",
      "-- -- -- -- -- -- -- -- -- -- \n",
      "symbol : TATASTEEL.NS\n",
      "-- -- -- -- -- -- -- -- -- -- \n",
      "underlyingSymbol : TATASTEEL.NS\n",
      "-- -- -- -- -- -- -- -- -- -- \n",
      "shortName : TATA STEEL LIMITED\n",
      "-- -- -- -- -- -- -- -- -- -- \n",
      "longName : Tata Steel Limited\n",
      "-- -- -- -- -- -- -- -- -- -- \n",
      "timeZoneFullName : Asia/Kolkata\n",
      "-- -- -- -- -- -- -- -- -- -- \n",
      "timeZoneShortName : IST\n",
      "-- -- -- -- -- -- -- -- -- -- \n",
      "uuid : fadf0ed1-ada5-3bab-993c-4f6b06474dd3\n",
      "-- -- -- -- -- -- -- -- -- -- \n",
      "messageBoardId : finmb_874170\n",
      "-- -- -- -- -- -- -- -- -- -- \n",
      "recommendationKey : buy\n",
      "-- -- -- -- -- -- -- -- -- -- \n",
      "financialCurrency : INR\n",
      "-- -- -- -- -- -- -- -- -- -- \n"
     ]
    }
   ],
   "source": [
    "\n",
    "\n",
    "str_keys = [k for k in stock.info.keys() if type(stock.info[k]) == str ]\n",
    "for k in str_keys:\n",
    "    print(k,':', stock.info[k])\n",
    "    print('-- '*10)\n"
   ]
  }
 ],
 "metadata": {
  "kernelspec": {
   "display_name": "fin_rag",
   "language": "python",
   "name": "python3"
  },
  "language_info": {
   "codemirror_mode": {
    "name": "ipython",
    "version": 3
   },
   "file_extension": ".py",
   "mimetype": "text/x-python",
   "name": "python",
   "nbconvert_exporter": "python",
   "pygments_lexer": "ipython3",
   "version": "3.12.2"
  }
 },
 "nbformat": 4,
 "nbformat_minor": 2
}
