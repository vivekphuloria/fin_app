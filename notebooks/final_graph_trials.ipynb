{
 "cells": [
  {
   "cell_type": "code",
   "execution_count": 2,
   "metadata": {},
   "outputs": [],
   "source": [
    "from IPython.display import Markdown, display\n",
    "from langchain_core.messages import HumanMessage, AIMessage\n",
    "from app.graph import get_graph"
   ]
  },
  {
   "cell_type": "code",
   "execution_count": 3,
   "metadata": {},
   "outputs": [],
   "source": [
    "app = get_graph()"
   ]
  },
  {
   "cell_type": "code",
   "execution_count": null,
   "metadata": {},
   "outputs": [
    {
     "data": {
      "text/markdown": [
       "Here is the analysis of Asian Paints' earnings over the last three quarters, based on Normalized EBITDA:\n",
       "\n",
       "| Quarter Ending | Normalized EBITDA (₹ B) |\n",
       "|----------------|------------------------|\n",
       "| 2024-12-31     | 18.30 B                |\n",
       "| 2024-09-30     | 14.44 B                |\n",
       "| 2024-06-30     | 18.87 B                |\n",
       "\n",
       "### Analysis:\n",
       "\n",
       "1. **December 2024**: The quarter ending in December 2024 shows a normalized EBITDA of ₹18.30 billion.\n",
       "   \n",
       "2. **September 2024**: There was a decrease in normalized EBITDA to ₹14.44 billion, indicating a drop of approximately 21.1% from the quarter ending in June 2024.\n",
       "\n",
       "3. **June 2024**: This quarter had the highest normalized EBITDA among the last three quarters at ₹18.87 billion, reflecting strong earnings performance.\n",
       "\n",
       "### Business Impact:\n",
       "\n",
       "- **Fluctuation in Earnings**: There is considerable fluctuation in earnings across the three quarters, with a notable dip in the September 2024 quarter. This could indicate potential volatility in revenue streams or increased operational costs during that period.\n",
       "  \n",
       "- **Investors’ Perspective**: Consistent high earnings can be attractive to investors; however, the September dip might raise questions about the cause, prompting further investigation into quarterly operational challenges or external factors.\n",
       "\n",
       "### Consideration for Investors:\n",
       "\n",
       "- **Stability and Growth**: Understanding the reasons behind earnings fluctuations is crucial. Investigators should seek deeper insights into sales performance, market conditions, pricing strategy, or cost management during these periods.\n",
       "- **Operational Efficiency**: Exploring operational efficiencies might uncover opportunities for future stabilization of earnings and profitability growth."
      ],
      "text/plain": [
       "<IPython.core.display.Markdown object>"
      ]
     },
     "metadata": {},
     "output_type": "display_data"
    }
   ],
   "source": [
    "q = \"How has the earnings of Asian Paints changed in the last 3 quarters?\"\n",
    "initial_input = {\"query\": q}\n",
    "\n",
    "# Thread\n",
    "res = app.invoke(initial_input)\n",
    "display(Markdown(res['generation']))"
   ]
  },
  {
   "cell_type": "code",
   "execution_count": null,
   "metadata": {},
   "outputs": [
    {
     "data": {
      "text/markdown": [
       "To assess the earnings performance of Asian Paints over the last three quarters, we will consider a couple of key financial metrics available in the provided dataframe:\n",
       "\n",
       "1. **Normalized EBITDA (Earnings Before Interest, Taxes, Depreciation, and Amortization):** This is a measure of a company's operating performance and is used to analyze and compare profitability between companies and industries because it eliminates the effects of financing and accounting decisions.\n",
       "\n",
       "2. **Total Unusual Items:** This value represents certain one-time or irregular financial items that may affect earnings but are not expected to recur regularly. It's important to assess earnings both including and excluding these items to understand the company's core operational performance.\n",
       "\n",
       "### Analyzing Earnings Over the Last Three Quarters\n",
       "\n",
       "1. **Quarter Ending June 2024:**\n",
       "   - **Normalized EBITDA:** \\(1.8867 \\times 10^{10}\\)\n",
       "   - **Total Unusual Items:** Not available (due to lack of data). This implies the assessment might not completely reflect the operational earnings due to unknown irregular items.\n",
       "\n",
       "2. **Quarter Ending September 2024:**\n",
       "   - **Normalized EBITDA:** \\(1.44418 \\times 10^{10}\\)\n",
       "   - **Total Unusual Items:** \\(-1.8014 \\times 10^9\\)\n",
       "   \n",
       "   Note: The total unusual items are negative, indicating a reduction in earnings due to one-time expenses or losses.\n",
       "\n",
       "3. **Quarter Ending December 2024:**\n",
       "   - **Normalized EBITDA:** \\(1.82955 \\times 10^{10}\\)\n",
       "   - **Total Unusual Items:** No unusual items reported for this quarter, suggesting core operations without irregular financial influence.\n",
       "\n",
       "### Business Impact and Insights\n",
       "\n",
       "- **Variation in EBITDA:** \n",
       "  - The EBITDA shows significant movement over these quarters.\n",
       "  - There was a noticeable dip in normalized EBITDA from the June 2024 quarter to the September 2024 quarter, followed by an increase in December 2024.\n",
       "  - This suggests periodic variances in operational efficiency or revenue generation.\n",
       "\n",
       "- **Unusual Items Influence:**\n",
       "  - The presence of unusual items in September 2024, accounting for a significant negative influence, highlights potential challenges faced during that period, such as unexpected expenses or write-offs impacting the bottom line.\n",
       "\n",
       "- **Operational Strength:**\n",
       "  - The absence of unusual items in December 2024 showcases a potentially stable financial period where the company possibly contained one-time expenses and focused on core operations for profitability.\n",
       "\n",
       "Overall, examining these metrics helps in understanding the financial health and earnings quality of Asian Paints, emphasizing how well the company manages extraordinary financial situations across quarters while maintaining operational growth."
      ],
      "text/plain": [
       "<IPython.core.display.Markdown object>"
      ]
     },
     "metadata": {},
     "output_type": "display_data"
    }
   ],
   "source": []
  },
  {
   "cell_type": "markdown",
   "metadata": {},
   "source": [
    "#### TrobleShooting"
   ]
  },
  {
   "cell_type": "code",
   "execution_count": 2,
   "metadata": {},
   "outputs": [],
   "source": [
    "from app.chains import get_data_response_chain, get_df_agent\n",
    "from app.consts import l_llm, run_get_output\n",
    "import yfinance as yf\n",
    "from langchain.prompts import ChatPromptTemplate \n",
    "from langchain_experimental.agents.agent_toolkits import create_pandas_dataframe_agent\n",
    "from langchain.agents.agent_types import AgentType\n"
   ]
  },
  {
   "cell_type": "code",
   "execution_count": 3,
   "metadata": {},
   "outputs": [],
   "source": [
    "state = {}\n",
    "state[\"query\"] = \"How has the debt of Asian Paints changed in the last 3 quarters?\"\n",
    "state['ticker'] = 'ASIANPAINT.NS'\n",
    "state['required_data'] = ['quarterly_balance_sheet']"
   ]
  },
  {
   "cell_type": "code",
   "execution_count": 4,
   "metadata": {},
   "outputs": [],
   "source": [
    "state\n",
    "stock = yf.Ticker(state['ticker'])\n",
    "\n",
    "l_df = []\n",
    "for field in state[\"required_data\"]:\n",
    "    l_df.append(getattr(stock,field))\n"
   ]
  },
  {
   "cell_type": "code",
   "execution_count": null,
   "metadata": {},
   "outputs": [],
   "source": [
    "# def get_df_agent(LLM, l_df, system_prompt, query):\n",
    "#     agent = create_pandas_dataframe_agent(\n",
    "#         LLM,\n",
    "#         l_df,\n",
    "#         verbose=False,\n",
    "#         agent_type=AgentType.OPENAI_FUNCTIONS,\n",
    "#         allow_dangerous_code=True\n",
    "#     )\n",
    "#     prompt = ChatPromptTemplate.from_messages(\n",
    "#     [\n",
    "#         (\"system\", system_prompt),\n",
    "#         (\"human\", '{input}'),\n",
    "#     ]\n",
    "#     )\n",
    "\n",
    "#     chain = prompt | agent | run_get_output\n",
    "#     return chain\n"
   ]
  },
  {
   "cell_type": "code",
   "execution_count": 6,
   "metadata": {},
   "outputs": [
    {
     "name": "stdout",
     "output_type": "stream",
     "text": [
      "In the last three quarters, the debt of Asian Paints has changed as follows:\n",
      "\n",
      "- **Net Debt:**\n",
      "  - 2023-09-30: 5.4505 billion\n",
      "  - 2024-03-31: 2.778 billion\n",
      "  - 2024-09-30: 6.6977 billion\n",
      "\n",
      "- **Total Debt:**\n",
      "  - 2023-09-30: 23.2677 billion\n",
      "  - 2024-03-31: 24.7438 billion\n",
      "  - 2024-09-30: 25.1602 billion\n",
      "\n",
      "The net debt decreased significantly from September 2023 to March 2024, then increased again by September 2024. The total debt has consistently increased over these three quarters.\n"
     ]
    }
   ],
   "source": [
    "\n",
    "system_prompt = \"You have to give response to the users query, given the following information\"\n",
    "\n",
    "chain = get_df_agent(LLM=l_llm['gpt-4o'], l_df=l_df, system_prompt=system_prompt)\n",
    "\n",
    "res = chain.invoke(state['query'])\n",
    "\n",
    "print(res)"
   ]
  },
  {
   "cell_type": "code",
   "execution_count": 27,
   "metadata": {},
   "outputs": [
    {
     "data": {
      "text/plain": [
       "\"Over the last 3 quarters, Asian Paints' net debt increased by ₹1,247.2 crore, and the total debt increased by ₹1,892.5 crore.\""
      ]
     },
     "execution_count": 27,
     "metadata": {},
     "output_type": "execute_result"
    }
   ],
   "source": [
    "res"
   ]
  }
 ],
 "metadata": {
  "kernelspec": {
   "display_name": "fin_app_env",
   "language": "python",
   "name": "python3"
  },
  "language_info": {
   "codemirror_mode": {
    "name": "ipython",
    "version": 3
   },
   "file_extension": ".py",
   "mimetype": "text/x-python",
   "name": "python",
   "nbconvert_exporter": "python",
   "pygments_lexer": "ipython3",
   "version": "3.11.5"
  }
 },
 "nbformat": 4,
 "nbformat_minor": 2
}
