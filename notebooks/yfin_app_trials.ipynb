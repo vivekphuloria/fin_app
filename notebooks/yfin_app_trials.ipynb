{
 "cells": [
  {
   "cell_type": "code",
   "execution_count": 1,
   "metadata": {},
   "outputs": [],
   "source": [
    "import pandas as pd\n",
    "import yfinance as yf\n",
    "import numbers"
   ]
  },
  {
   "cell_type": "code",
   "execution_count": 2,
   "metadata": {},
   "outputs": [
    {
     "data": {
      "text/plain": [
       "'0.2.54'"
      ]
     },
     "execution_count": 2,
     "metadata": {},
     "output_type": "execute_result"
    }
   ],
   "source": [
    "# !pip install yfinance==0.2.54\n",
    "yf.__version__"
   ]
  },
  {
   "cell_type": "code",
   "execution_count": 3,
   "metadata": {},
   "outputs": [],
   "source": [
    "\n",
    "stock = yf.Ticker(\"ASIANPAINT.NS\")\n",
    "\n",
    "stock_info = stock.info"
   ]
  },
  {
   "cell_type": "code",
   "execution_count": 7,
   "metadata": {},
   "outputs": [
    {
     "name": "stdout",
     "output_type": "stream",
     "text": [
      "['address1', 'address2', 'city', 'zip', 'country', 'phone', 'fax', 'website', 'industry', 'industryKey', 'industryDisp', 'sector', 'sectorKey', 'sectorDisp', 'longBusinessSummary', 'currency', 'lastSplitFactor', 'quoteType', 'recommendationKey', 'financialCurrency', 'symbol', 'language', 'region', 'typeDisp', 'quoteSourceName', 'customPriceAlertConfidence', 'fiftyTwoWeekRange', 'regularMarketDayRange', 'fullExchangeName', 'averageAnalystRating', 'marketState', 'exchange', 'messageBoardId', 'exchangeTimezoneName', 'exchangeTimezoneShortName', 'market', 'shortName', 'longName']\n",
      "address1 :: Asian Paints House\n",
      "address2 :: 6A, Shantinagar Santacruz (East)\n",
      "city :: Mumbai\n",
      "zip :: 400055\n",
      "country :: India\n",
      "phone :: 91 22 6218 1000\n",
      "fax :: 91 22 6218 1111\n",
      "website :: https://www.asianpaints.com\n",
      "industry :: Specialty Chemicals\n",
      "industryKey :: specialty-chemicals\n",
      "industryDisp :: Specialty Chemicals\n",
      "sector :: Basic Materials\n",
      "sectorKey :: basic-materials\n",
      "sectorDisp :: Basic Materials\n",
      "longBusinessSummary :: Asian Paints Limited, together with its subsidiaries, engages in the manufacturing, selling, and distribution of paints, coatings, and products related to home decoration and bath fittings in Asia, the Middle East, Africa, and the South Pacific region. The company offers wall coverings; textures painting aids; waterproofing products; wall stickers; mechanized tools; adhesives; modular kitchens and wardrobes; bath fittings and sanitaryware; decorative lighting products; fabrics, furniture, furnishings, and rugs; and unplasticized polyvinyl chloride windows and door systems, as well as personalized interior design, safe painting, and color consulting services. It also provides interior and exterior wall finishes, wood finishes, enamels, tools, undercoats, thinners, and varnishers. The company offers its products under the Asian Paints, SCIB Paints, Apco Coatings, Asian Paints Berger, Taubman, Asian Paints Causeway, and Kadisco Asian Paints brand names through a network of dealers and retail stores, as well as operates asianpaints.com, an online shop. Asian Paints Limited was founded in 1942 and is headquartered in Mumbai, India.\n",
      "currency :: INR\n",
      "lastSplitFactor :: 10:1\n",
      "quoteType :: EQUITY\n",
      "recommendationKey :: hold\n",
      "financialCurrency :: INR\n",
      "symbol :: ASIANPAINT.NS\n",
      "language :: en-US\n",
      "region :: US\n",
      "typeDisp :: Equity\n",
      "quoteSourceName :: Free Realtime Quote\n",
      "customPriceAlertConfidence :: HIGH\n",
      "fiftyTwoWeekRange :: 2185.7 - 3394.9\n",
      "regularMarketDayRange :: 2226.1 - 2249.8\n",
      "fullExchangeName :: NSE\n",
      "averageAnalystRating :: 3.3 - Hold\n",
      "marketState :: REGULAR\n",
      "exchange :: NSI\n",
      "messageBoardId :: finmb_878276\n",
      "exchangeTimezoneName :: Asia/Kolkata\n",
      "exchangeTimezoneShortName :: IST\n",
      "market :: in_market\n",
      "shortName :: ASIAN PAINTS LIMITED\n",
      "longName :: Asian Paints Limited\n"
     ]
    }
   ],
   "source": [
    "\n",
    "\n",
    "str_keys = [k for k in stock_info.keys() if type(stock_info[k]) == str ]\n",
    "print(str_keys)\n",
    "\n",
    "for k in str_keys:\n",
    "    print(k,'::', stock_info[k])\n",
    "\n",
    "\n",
    "# for k in str_keys:\n",
    "#     print(k,':', stock.info[k])\n",
    "#     print('-- '*10)\n"
   ]
  },
  {
   "cell_type": "code",
   "execution_count": 18,
   "metadata": {},
   "outputs": [
    {
     "name": "stdout",
     "output_type": "stream",
     "text": [
      "major_holders (0, 0)\n",
      "institutional_holders (0, 0)\n",
      "mutualfund_holders (0, 0)\n",
      "insider_purchases (0, 0)\n",
      "insider_transactions (0, 0)\n",
      "insider_roster_holders (0, 0)\n"
     ]
    },
    {
     "name": "stderr",
     "output_type": "stream",
     "text": [
      "TATASTEEL.NS: No price data found, symbol may be delisted (1d 1926-03-16 -> 2025-02-19)\n",
      "TATASTEEL.NS: No price data found, symbol may be delisted (1d 1926-03-16 -> 2025-02-19)\n",
      "TATASTEEL.NS: No price data found, symbol may be delisted (1d 1926-03-16 -> 2025-02-19)\n",
      "TATASTEEL.NS: No price data found, symbol may be delisted (1d 1926-03-16 -> 2025-02-19)\n"
     ]
    },
    {
     "name": "stdout",
     "output_type": "stream",
     "text": [
      "problem with : shares Faced error :  Have not implemented fetching 'shares' from Yahoo API\n"
     ]
    },
    {
     "name": "stderr",
     "output_type": "stream",
     "text": [
      "429 Client Error: Too Many Requests for url: https://query2.finance.yahoo.com/v10/finance/quoteSummary/TATASTEEL.NS?modules=calendarEvents&corsDomain=finance.yahoo.com&formatted=false&symbol=TATASTEEL.NS&crumb=Edge%3A+Too+Many+Requests\n",
      "429 Client Error: Too Many Requests for url: https://query2.finance.yahoo.com/v10/finance/quoteSummary/TATASTEEL.NS?modules=recommendationTrend&corsDomain=finance.yahoo.com&formatted=false&symbol=TATASTEEL.NS&crumb=Edge%3A+Too+Many+Requests\n"
     ]
    },
    {
     "name": "stdout",
     "output_type": "stream",
     "text": [
      "recommendations (0, 0)\n",
      "recommendations_summary (0, 0)\n"
     ]
    },
    {
     "name": "stderr",
     "output_type": "stream",
     "text": [
      "429 Client Error: Too Many Requests for url: https://query2.finance.yahoo.com/v10/finance/quoteSummary/TATASTEEL.NS?modules=upgradeDowngradeHistory&corsDomain=finance.yahoo.com&formatted=false&symbol=TATASTEEL.NS&crumb=Edge%3A+Too+Many+Requests\n"
     ]
    },
    {
     "name": "stdout",
     "output_type": "stream",
     "text": [
      "upgrades_downgrades (0, 0)\n",
      "problem with : earnings Faced error :  Have not implemented fetching 'earnings' from Yahoo API\n",
      "problem with : quarterly_earnings Faced error :  Have not implemented fetching 'earnings' from Yahoo API\n",
      "income_stmt (0, 0)\n",
      "quarterly_income_stmt (0, 0)\n",
      "incomestmt (0, 0)\n",
      "quarterly_incomestmt (0, 0)\n",
      "financials (0, 0)\n",
      "quarterly_financials (0, 0)\n",
      "balance_sheet (0, 0)\n",
      "quarterly_balance_sheet (0, 0)\n",
      "balancesheet (0, 0)\n",
      "quarterly_balancesheet (0, 0)\n",
      "cash_flow (0, 0)\n",
      "quarterly_cash_flow (0, 0)\n",
      "cashflow (0, 0)\n",
      "quarterly_cashflow (0, 0)\n",
      "problem with : analyst_price_target Faced error :  Have not implemented fetching 'analyst_price_target' from Yahoo API\n",
      "problem with : revenue_forecasts Faced error :  Have not implemented fetching 'rev_est' from Yahoo API\n",
      "problem with : sustainability Faced error :  Have not implemented fetching 'sustainability' from Yahoo API\n",
      "problem with : options Faced error :  Expecting value: line 1 column 1 (char 0)\n",
      "problem with : news Faced error :  Expecting value: line 1 column 1 (char 0)\n",
      "problem with : trend_details Faced error :  Have not implemented fetching 'analyst_trend_details' from Yahoo API\n",
      "problem with : earnings_trend Faced error :  Have not implemented fetching 'earnings_trend' from Yahoo API\n"
     ]
    },
    {
     "name": "stderr",
     "output_type": "stream",
     "text": [
      "TATASTEEL.NS: No earnings dates found, symbol may be delisted\n"
     ]
    },
    {
     "name": "stdout",
     "output_type": "stream",
     "text": [
      "problem with : earnings_forecasts Faced error :  Have not implemented fetching 'eps_est' from Yahoo API\n"
     ]
    }
   ],
   "source": [
    "\n",
    "for k in stock.__dir__():\n",
    "    if k[0]!='_':\n",
    "        try:\n",
    "            val = getattr(stock,k)\n",
    "            typ = type(val)\n",
    "            if typ == pd.DataFrame:\n",
    "                print(k, val.shape)\n",
    "        except Exception as e:\n",
    "            print('problem with :', k, 'Faced error : ',e)"
   ]
  }
 ],
 "metadata": {
  "kernelspec": {
   "display_name": "fin_app_env",
   "language": "python",
   "name": "python3"
  },
  "language_info": {
   "codemirror_mode": {
    "name": "ipython",
    "version": 3
   },
   "file_extension": ".py",
   "mimetype": "text/x-python",
   "name": "python",
   "nbconvert_exporter": "python",
   "pygments_lexer": "ipython3",
   "version": "3.11.5"
  }
 },
 "nbformat": 4,
 "nbformat_minor": 2
}
